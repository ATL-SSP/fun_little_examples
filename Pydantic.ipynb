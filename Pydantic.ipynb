{
 "cells": [
  {
   "cell_type": "markdown",
   "id": "6ce2a444-7840-4217-b35d-8489bef39709",
   "metadata": {},
   "source": [
    "# SSP ESRI Pydantic\n",
    "\n",
    "A notebook demonstrating the results of using a pydantic type adapter for validating data vs error handling from an insert cursor."
   ]
  },
  {
   "cell_type": "code",
   "execution_count": 1,
   "id": "0cc15fed-6105-40ec-824d-50c9e3e281f1",
   "metadata": {},
   "outputs": [],
   "source": [
    "import os\n",
    "import pprint\n",
    "\n",
    "import arcpy\n",
    "import pydantic\n",
    "\n",
    "from ssp_esri_pydantic import make_table_adapter\n",
    "\n",
    "my_database = r\"C:\\ssp_esri_pydantic\\my_database.gdb\"\n",
    "fc_name = \"MY_FEATURECLASS\"\n",
    "\n",
    "my_fc_path = os.path.join(my_database, fc_name)"
   ]
  },
  {
   "cell_type": "markdown",
   "id": "18b3ac7d-bc20-4425-9cfc-b0e086956ec9",
   "metadata": {},
   "source": [
    "## Create the target feature class"
   ]
  },
  {
   "cell_type": "code",
   "execution_count": 2,
   "id": "c52028fd-d04f-401a-83c0-92c11bf40bb8",
   "metadata": {
    "tags": []
   },
   "outputs": [
    {
     "name": "stdout",
     "output_type": "stream",
     "text": [
      "Creating file geodatabase C:\\ssp_esri_pydantic\n",
      "Creating feature class MY_FEATURECLASS in C:\\ssp_esri_pydantic\\my_database.gdb\n",
      "Creating a CV domain with codes/descriptions.\n",
      "Adding fields to feature class.\n",
      "Feature class created.\n"
     ]
    }
   ],
   "source": [
    "if os.path.exists(os.path.dirname(my_database)) is False:\n",
    "    print(f\"Making folder {os.path.dirname(my_database)}\")\n",
    "    os.mkdir(os.path.dirname(my_database))\n",
    "\n",
    "if arcpy.Exists(my_database) is False:\n",
    "    print(f\"Creating file geodatabase {os.path.dirname(my_database)}\")\n",
    "    arcpy.CreateFileGDB_management(\n",
    "        os.path.dirname(my_database), \n",
    "        os.path.basename(my_database)\n",
    "    )\n",
    "\n",
    "if arcpy.Exists(my_fc_path) is False:\n",
    "    print(f\"Creating feature class {fc_name} in {my_database}\")\n",
    "    arcpy.CreateFeatureclass_management(\n",
    "        my_database,\n",
    "        fc_name,\n",
    "        geometry_type=\"POINT\",\n",
    "        has_z=\"DISABLED\",\n",
    "        spatial_reference=4326,\n",
    "    )\n",
    "    \n",
    "    print(\"Creating a CV domain with codes/descriptions.\")\n",
    "    arcpy.CreateDomain_management(\n",
    "        my_database, \n",
    "        \"MY_SHORT_DOMAIN\", \n",
    "        \"a short type domain\", \n",
    "        \"SHORT\",\n",
    "    )\n",
    "    arcpy.AddCodedValueToDomain_management(\n",
    "        my_database, \n",
    "        \"MY_SHORT_DOMAIN\", \n",
    "        0,\n",
    "        \"Off\",\n",
    "    )\n",
    "    arcpy.AddCodedValueToDomain_management(\n",
    "        my_database, \n",
    "        \"MY_SHORT_DOMAIN\", \n",
    "        1,\n",
    "        \"On\",\n",
    "    )\n",
    "    arcpy.AddCodedValueToDomain_management(\n",
    "        my_database, \n",
    "        \"MY_SHORT_DOMAIN\", \n",
    "        -1,\n",
    "        \"Unknown\",\n",
    "    )\n",
    "    print(\"Adding fields to feature class.\")\n",
    "    arcpy.AddField_management(my_fc_path, \"SHORT_FIELD\", \"SHORT\", field_alias=\"short\", field_is_nullable=False)\n",
    "    arcpy.AddField_management(my_fc_path, \"LONG_FIELD\", \"LONG\", field_alias=\"long\")\n",
    "    arcpy.AddField_management(my_fc_path, \"TEXT_FIELD\", \"TEXT\", field_alias=\"text\", field_length=10)\n",
    "    arcpy.AddField_management(my_fc_path, \"CODED_VALUE_SHORT_FIELD\", \"SHORT\", field_alias=\"CV short\", field_domain=\"MY_SHORT_DOMAIN\")\n",
    "    print(\"Feature class created.\")"
   ]
  },
  {
   "cell_type": "markdown",
   "id": "bd68d8a2-d936-4978-b1a7-cdad7ba04f12",
   "metadata": {},
   "source": [
    "## Make the table adapter\n",
    "\n",
    "Make the table adapter based on our feature class. This type adapter can verify input data can be inserted into our geodatabase."
   ]
  },
  {
   "cell_type": "code",
   "execution_count": 3,
   "id": "29ebcd4e-1aac-486d-9fd8-f29d4addfa1a",
   "metadata": {},
   "outputs": [],
   "source": [
    "my_ta = make_table_adapter(my_fc_path)"
   ]
  },
  {
   "cell_type": "markdown",
   "id": "68c50490-c9b8-4593-9adb-1d4dfea11e11",
   "metadata": {},
   "source": [
    "## Insert function\n",
    "\n",
    "We can use test_ta_and_insert_data() to test the results of both the type adapter and the insert cursor and compare the results of both"
   ]
  },
  {
   "cell_type": "code",
   "execution_count": 4,
   "id": "86a5ec69-8def-4862-8fa3-9b6f90f7707f",
   "metadata": {},
   "outputs": [],
   "source": [
    "def print_indented_exception(ex):\n",
    "    \"\"\"Print an exception message indented with a tab.\"\"\"\n",
    "    for i, line in enumerate(str(ex).splitlines()):\n",
    "        if i == 0:\n",
    "             print(f\"\\t{type(ex).__name__}: {line}\")\n",
    "        else:\n",
    "            print(f\"\\t{line}\")\n",
    "\n",
    "def test_ta_and_insert_data(row:dict):\n",
    "    \"\"\"Compare the results from type adapter vs insert cusor with the same data.\"\"\"\n",
    "    print(f\"Input data:\")\n",
    "    max_field_name_len = max([len(key) for key in row.keys()])\n",
    "    for key, val in row.items():\n",
    "        if isinstance(val, str):\n",
    "            print(f\"\\t{key:<{max_field_name_len}}: '{val}'\") \n",
    "        elif isinstance(val, arcpy.Point):\n",
    "            print(f\"\\t{key:<{max_field_name_len}}: POINT({val})\") \n",
    "        else:\n",
    "            print(f\"\\t{key:<{max_field_name_len}}: {val}\")    \n",
    "    print(\"\") # print blank line so it looks nice :)\n",
    "    \n",
    "    \n",
    "    try:\n",
    "        my_ta.validate_python(my_row)\n",
    "        print(\"validate_python success.\")\n",
    "    except Exception as ex:\n",
    "        print(f\"validate_python exception.  Exception message:\")\n",
    "        print_indented_exception(ex)\n",
    "    \n",
    "    print(\"\") # print another blank line so it looks nice :)\n",
    "    \n",
    "    try:\n",
    "        fields_to_write = list(row.keys())\n",
    "        with arcpy.da.InsertCursor(my_fc_path, field_names=fields_to_write) as insert_cursor:\n",
    "            values_to_write = list(row.values())\n",
    "        insert_cursor.insertRow(values_to_write)\n",
    "        print(\"InsertCursor success.\")\n",
    "    except Exception as ex:\n",
    "        print(\"InsertCursor exception.  Exception message:\")\n",
    "        print_indented_exception(ex)"
   ]
  },
  {
   "cell_type": "markdown",
   "id": "c4734643-1204-4505-8d35-7bca118de63e",
   "metadata": {},
   "source": [
    "### Create a point\n",
    "\n",
    "Nothing special, just a point, our type adapter won't do anything other than verify that the Shape isn't None"
   ]
  },
  {
   "cell_type": "code",
   "execution_count": 5,
   "id": "b344dc9c-13d8-46ef-b2e6-89e00a574016",
   "metadata": {},
   "outputs": [],
   "source": [
    "my_point = arcpy.Point(-90.18502, 38.62466)"
   ]
  },
  {
   "cell_type": "markdown",
   "id": "0d5b6005-4ef4-4461-bb99-9ac88717d1e0",
   "metadata": {},
   "source": [
    "## Case 0: All values are good\n",
    "\n",
    "These inputs are all valid inputs for our fields; this should be successfully validated by the type adapter and the insert cursor should successfully insert the row."
   ]
  },
  {
   "cell_type": "code",
   "execution_count": 6,
   "id": "d815385c-9961-43cf-93ae-13a970378549",
   "metadata": {},
   "outputs": [
    {
     "name": "stdout",
     "output_type": "stream",
     "text": [
      "Input data:\n",
      "\tSHORT_FIELD            : 50\n",
      "\tTEXT_FIELD             : 'good text'\n",
      "\tLONG_FIELD             : 1000000\n",
      "\tCODED_VALUE_SHORT_FIELD: 1\n",
      "\tShape                  : POINT(-90.18502 38.62466 NaN NaN)\n",
      "\n",
      "validate_python success.\n",
      "\n",
      "InsertCursor success.\n"
     ]
    }
   ],
   "source": [
    "my_row = {\n",
    "    \"SHORT_FIELD\": 50,\n",
    "    \"TEXT_FIELD\": \"good text\",\n",
    "    \"LONG_FIELD\": 1_000_000,\n",
    "    \"CODED_VALUE_SHORT_FIELD\": 1,\n",
    "    \"Shape\": my_point,\n",
    "}\n",
    "test_ta_and_insert_data(my_row)"
   ]
  },
  {
   "cell_type": "markdown",
   "id": "3419755d-63ba-4f4f-9758-f93d7fa54b16",
   "metadata": {},
   "source": [
    "#### Case 0 Result: \n",
    "As expected, good values are validated by the type adapter and the insert cursor was successful."
   ]
  },
  {
   "cell_type": "markdown",
   "id": "86c81d34-e0ca-44df-a247-00e30616ac15",
   "metadata": {
    "tags": []
   },
   "source": [
    "## Case 1: Value too big for field type\n",
    "\n",
    "A value of 50,000 is sent to a short integer field (which is greater than 32,767 (the maximum value for a short integer))"
   ]
  },
  {
   "cell_type": "code",
   "execution_count": 7,
   "id": "e278401f-6eb6-4e6a-a34b-c147adaa6809",
   "metadata": {},
   "outputs": [
    {
     "name": "stdout",
     "output_type": "stream",
     "text": [
      "Input data:\n",
      "\tSHORT_FIELD: 50000\n",
      "\tTEXT_FIELD : 'some text'\n",
      "\tShape      : POINT(-90.18502 38.62466 NaN NaN)\n",
      "\n",
      "validate_python exception.  Exception message:\n",
      "\tValidationError: 1 validation error for MY_FEATURECLASS\n",
      "\tSHORT_FIELD\n",
      "\t  Input should be less than or equal to 32767 [type=less_than_equal, input_value=50000, input_type=int]\n",
      "\t    For further information visit https://errors.pydantic.dev/2.11/v/less_than_equal\n",
      "\n",
      "InsertCursor exception.  Exception message:\n",
      "\tRuntimeError: The value type is incompatible with the field type. [SHORT_FIELD]\n"
     ]
    }
   ],
   "source": [
    "my_row = {\n",
    "    \"SHORT_FIELD\": 50_000,\n",
    "    \"TEXT_FIELD\": \"some text\",\n",
    "    \"Shape\": my_point,\n",
    "}\n",
    "test_ta_and_insert_data(my_row)"
   ]
  },
  {
   "cell_type": "markdown",
   "id": "547648bb-fc2c-4195-9e4c-2cd5d6f75c84",
   "metadata": {},
   "source": [
    "#### Case 1 Result: \n",
    "They both tell us that there is a problem with the SHORT_FIELD, but I find the type adapter’s error message more helpful.  It tells me what the maximum value for the field is, as well as the value that was supplied to the field.  The InsertCursor simply tells us that the value is incompatible, it doesn’t tell us any details about what was wrong with the value."
   ]
  },
  {
   "cell_type": "markdown",
   "id": "89233a42-355e-42ef-830e-2f5d9c565bda",
   "metadata": {
    "tags": []
   },
   "source": [
    "## Case 2: Wrong datatype\n",
    "A string is sent to the short integer field"
   ]
  },
  {
   "cell_type": "code",
   "execution_count": 8,
   "id": "65401028-7c9c-46c4-bb08-58855a72c10c",
   "metadata": {},
   "outputs": [
    {
     "name": "stdout",
     "output_type": "stream",
     "text": [
      "Input data:\n",
      "\tSHORT_FIELD: 'should be an int'\n",
      "\tTEXT_FIELD : 'some text'\n",
      "\tShape      : POINT(-90.18502 38.62466 NaN NaN)\n",
      "\n",
      "validate_python exception.  Exception message:\n",
      "\tValidationError: 1 validation error for MY_FEATURECLASS\n",
      "\tSHORT_FIELD\n",
      "\t  Input should be a valid integer, unable to parse string as an integer [type=int_parsing, input_value='should be an int', input_type=str]\n",
      "\t    For further information visit https://errors.pydantic.dev/2.11/v/int_parsing\n",
      "\n",
      "InsertCursor exception.  Exception message:\n",
      "\tRuntimeError: The value type is incompatible with the field type. [SHORT_FIELD]\n"
     ]
    }
   ],
   "source": [
    "my_row = {\n",
    "    \"SHORT_FIELD\":\"should be an int\", \n",
    "    \"TEXT_FIELD\": \"some text\",\n",
    "    \"Shape\":my_point,\n",
    "}\n",
    "\n",
    "test_ta_and_insert_data(my_row)"
   ]
  },
  {
   "cell_type": "markdown",
   "id": "205095e9-90b8-40a3-ae63-2074c3b05679",
   "metadata": {},
   "source": [
    "#### Case 2 Result: \n",
    "The type adapter tells us that we gave a string not an integer, and then tells us what that input string was, the InsertCursor tells us the same error as we got for passing an integer that was too big to the short integer field."
   ]
  },
  {
   "cell_type": "markdown",
   "id": "50239e95-468a-4b0e-8d4e-76f7c4ecc2e8",
   "metadata": {
    "tags": []
   },
   "source": [
    "## Case 3: Float to an int field\n",
    "A float of 98.6 is sent to the short integer field."
   ]
  },
  {
   "cell_type": "code",
   "execution_count": 9,
   "id": "675ce7a5-9924-4b87-87db-93eedaf85ccd",
   "metadata": {},
   "outputs": [
    {
     "name": "stdout",
     "output_type": "stream",
     "text": [
      "Input data:\n",
      "\tSHORT_FIELD: 98.6\n",
      "\tTEXT_FIELD : 'short 98.6'\n",
      "\tShape      : POINT(-90.18502 38.62466 NaN NaN)\n",
      "\n",
      "validate_python exception.  Exception message:\n",
      "\tValidationError: 1 validation error for MY_FEATURECLASS\n",
      "\tSHORT_FIELD\n",
      "\t  Input should be a valid integer, got a number with a fractional part [type=int_from_float, input_value=98.6, input_type=float]\n",
      "\t    For further information visit https://errors.pydantic.dev/2.11/v/int_from_float\n",
      "\n",
      "InsertCursor success.\n"
     ]
    }
   ],
   "source": [
    "my_row = {\n",
    "    \"SHORT_FIELD\": 98.6, \n",
    "    \"TEXT_FIELD\": \"short 98.6\",\n",
    "    \"Shape\":my_point,\n",
    "}\n",
    "\n",
    "test_ta_and_insert_data(my_row)"
   ]
  },
  {
   "cell_type": "markdown",
   "id": "515f04c0-2ad4-4279-adae-d68cd7bd56ef",
   "metadata": {},
   "source": [
    "#### Case 3 Result: \n",
    "The type adapter once again gives us a clear error message, that we can’t have a fractional value for an integer. You can come to your own conclusions if the insert cursor being successful and inserting 99 instead of 98.6 is good/bad or indifferent, but I’m firmly in the camp that says the database should be giving me an error and it should not chang the value I sent without telling me.\n",
    "\n",
    "![An image showing an attribute table with the value 99 in the short column](case3.png \"float rounded to an integer\")"
   ]
  },
  {
   "cell_type": "markdown",
   "id": "2cac252d-d049-4d18-8ac4-d84e9b5bdcd2",
   "metadata": {
    "tags": []
   },
   "source": [
    "## Case 4: Text too long\n",
    "A string is sent to the text field, but the string is too long to fit into the field because the text field has a length of 10 and the input string is longer than 10."
   ]
  },
  {
   "cell_type": "code",
   "execution_count": 10,
   "id": "9bef73c8-20b8-47a8-9a4a-a2bf22559638",
   "metadata": {},
   "outputs": [
    {
     "name": "stdout",
     "output_type": "stream",
     "text": [
      "Input data:\n",
      "\tSHORT_FIELD: 20\n",
      "\tTEXT_FIELD : 'a text string that's too big for the field '\n",
      "\tShape      : POINT(-90.18502 38.62466 NaN NaN)\n",
      "\n",
      "validate_python exception.  Exception message:\n",
      "\tValidationError: 1 validation error for MY_FEATURECLASS\n",
      "\tTEXT_FIELD\n",
      "\t  String should have at most 10 characters [type=string_too_long, input_value=\"a text string that's too big for the field \", input_type=str]\n",
      "\t    For further information visit https://errors.pydantic.dev/2.11/v/string_too_long\n",
      "\n",
      "InsertCursor exception.  Exception message:\n",
      "\tRuntimeError: The row contains a bad value. [Field length exceeded. Field: TEXT_FIELD. Value: a text string that's too big for the field ]\n"
     ]
    }
   ],
   "source": [
    "my_row = {\n",
    "    \"SHORT_FIELD\": 20, \n",
    "    \"TEXT_FIELD\": \"a text string that's too big for the field \",\n",
    "    \"Shape\":my_point,\n",
    "}\n",
    "\n",
    "test_ta_and_insert_data(my_row)"
   ]
  },
  {
   "cell_type": "markdown",
   "id": "8afdcad2-b43b-4cbb-91a8-1078ef378b22",
   "metadata": {},
   "source": [
    "#### Case 4 Result: \n",
    "Both error are very similar in this case, but the type adapter telling us the actual value that was bad is nice to have. Also note in the type adapter error, that the input value is surrounded in quotes, this is incredibly helpful to find issues with text values that look good, but have trailing whitespace at the end of the string, and that trailing white space is what is causing the string to be too long."
   ]
  },
  {
   "cell_type": "markdown",
   "id": "4c25c80a-3625-421f-8a5a-288e0d638063",
   "metadata": {
    "tags": []
   },
   "source": [
    "## Case 5: Multiple errors\n",
    "Sometimes input data has more than one issue (gasp), lets see what happens if a value that’s too large for a short int, and a text value that’s too long for the field are sent for one feature."
   ]
  },
  {
   "cell_type": "code",
   "execution_count": 11,
   "id": "7871d534-3de2-4b6c-8316-99333fdc56fc",
   "metadata": {},
   "outputs": [
    {
     "name": "stdout",
     "output_type": "stream",
     "text": [
      "Input data:\n",
      "\tSHORT_FIELD: 99999\n",
      "\tTEXT_FIELD : 'a text string that's too big for the field'\n",
      "\tShape      : POINT(-90.18502 38.62466 NaN NaN)\n",
      "\n",
      "validate_python exception.  Exception message:\n",
      "\tValidationError: 2 validation errors for MY_FEATURECLASS\n",
      "\tSHORT_FIELD\n",
      "\t  Input should be less than or equal to 32767 [type=less_than_equal, input_value=99999, input_type=int]\n",
      "\t    For further information visit https://errors.pydantic.dev/2.11/v/less_than_equal\n",
      "\tTEXT_FIELD\n",
      "\t  String should have at most 10 characters [type=string_too_long, input_value=\"a text string that's too big for the field\", input_type=str]\n",
      "\t    For further information visit https://errors.pydantic.dev/2.11/v/string_too_long\n",
      "\n",
      "InsertCursor exception.  Exception message:\n",
      "\tRuntimeError: The value type is incompatible with the field type. [SHORT_FIELD]\n"
     ]
    }
   ],
   "source": [
    "my_row = {\n",
    "    \"SHORT_FIELD\": 99999, \n",
    "    \"TEXT_FIELD\": \"a text string that's too big for the field\",\n",
    "    \"Shape\":my_point,\n",
    "}\n",
    "\n",
    "test_ta_and_insert_data(my_row)"
   ]
  },
  {
   "cell_type": "markdown",
   "id": "dc357c67-c7b7-4b3e-8d02-cfb9a8a9bb9f",
   "metadata": {},
   "source": [
    "#### Case 5 Result: \n",
    "The type adapter tells us that we have two issues with the data.  The insert cursor finds the first error and stops.  If we went back and corrected the error identified by the insert cursor and tried again, we’d get hit by a different error.  I personally like the way this works in the type adapter because it makes it feel a lot less like I’m playing a game of whack a mole.  When the insert cursor gives you only one error at a time it's like playing whack a mole, you fix one error and then another pops up! \n",
    "\n",
    "##### Note\n",
    "Pydantic does have a [failfast](https://docs.pydantic.dev/latest/concepts/performance/#failing-early-with-failfast) mode that would stop validation at the first error, which is great for some situations, but for this use case, having all the errors is very beneficial, so failfast is not enabled in our type adapter."
   ]
  },
  {
   "cell_type": "markdown",
   "id": "586cae43-d80d-450a-abb5-84d48a1c40eb",
   "metadata": {
    "tags": []
   },
   "source": [
    "## Case 6: Null for a non-nullable field\n",
    "No value is provided to the SHORT_FIELD, which is non-nullable in the feature class."
   ]
  },
  {
   "cell_type": "code",
   "execution_count": 12,
   "id": "8c10dbac-d3e2-4b1b-91b4-b82a60cb8486",
   "metadata": {},
   "outputs": [
    {
     "name": "stdout",
     "output_type": "stream",
     "text": [
      "Input data:\n",
      "\tTEXT_FIELD: 'null short'\n",
      "\tShape     : POINT(-90.18502 38.62466 NaN NaN)\n",
      "\n",
      "validate_python exception.  Exception message:\n",
      "\tValidationError: 1 validation error for MY_FEATURECLASS\n",
      "\tSHORT_FIELD\n",
      "\t  Field required [type=missing, input_value={'TEXT_FIELD': 'null shor...18502, 38.62466, #, #)>}, input_type=dict]\n",
      "\t    For further information visit https://errors.pydantic.dev/2.11/v/missing\n",
      "\n",
      "InsertCursor success.\n"
     ]
    }
   ],
   "source": [
    "my_row = {\n",
    "    \"TEXT_FIELD\": \"null short\",\n",
    "    \"Shape\":my_point,\n",
    "}\n",
    "\n",
    "test_ta_and_insert_data(my_row)"
   ]
  },
  {
   "cell_type": "markdown",
   "id": "8c0d032c-a89b-4a08-9040-1b0f30019ea2",
   "metadata": {},
   "source": [
    "#### Case 6 Result:\n",
    "The type adapter fails and says that the short field is required.  The insert cursor returns success, if we look in the database our short int field has a 0 populated. \n",
    "\n",
    "![An image showing an attribute table with the value 0 in the short column](case6.png \"0 in the short integer field when no value was given\")\n",
    "\n",
    "Similar to case 3, I’ll leave you to come to your own conclusions, but I’d prefer to know that I wasn’t providing a value to a non-nullable field and that the database was going to populate it with a value, as opposed to it populating a value for me and not even telling me that it was doing so.\n",
    "\n",
    "##### Note\n",
    "Pydantic says that the field is required.  This is different than a field being 'required' in the ESRI ecosystem.  The 'required' property of a field in the ESRI world means that the field cannot be deleted from the table/feature class, it has absolutely nothing to do with the values in the field.  What pydantic calls 'required' is analagous to the ESRI 'isNullable' field property, which means that the field must have a value for each row in the table/feature class."
   ]
  },
  {
   "cell_type": "markdown",
   "id": "9e0126fa-f631-458b-9bac-6987ab44a85c",
   "metadata": {
    "tags": []
   },
   "source": [
    "## Case 7: Extra field provided\n",
    "Add an extra field “NON_EXISTENT_FIELD” to our input data ."
   ]
  },
  {
   "cell_type": "code",
   "execution_count": 13,
   "id": "18e5baba-9b33-4788-9d1e-5622138557a9",
   "metadata": {},
   "outputs": [
    {
     "name": "stdout",
     "output_type": "stream",
     "text": [
      "Input data:\n",
      "\tSHORT_FIELD       : 311\n",
      "\tTEXT_FIELD        : 'a string!'\n",
      "\tNON_EXISTENT_FIELD: 10\n",
      "\tShape             : POINT(-90.18502 38.62466 NaN NaN)\n",
      "\n",
      "validate_python exception.  Exception message:\n",
      "\tValidationError: 1 validation error for MY_FEATURECLASS\n",
      "\tNON_EXISTENT_FIELD\n",
      "\t  Extra inputs are not permitted [type=extra_forbidden, input_value=10, input_type=int]\n",
      "\t    For further information visit https://errors.pydantic.dev/2.11/v/extra_forbidden\n",
      "\n",
      "InsertCursor exception.  Exception message:\n",
      "\tRuntimeError: Cannot find field 'NON_EXISTENT_FIELD'\n"
     ]
    }
   ],
   "source": [
    "my_row = {\n",
    "    \"SHORT_FIELD\": 311, \n",
    "    \"TEXT_FIELD\": \"a string!\",\n",
    "    \"NON_EXISTENT_FIELD\": 10,\n",
    "    \"Shape\":my_point,\n",
    "}\n",
    "\n",
    "test_ta_and_insert_data(my_row)"
   ]
  },
  {
   "cell_type": "markdown",
   "id": "74eb31da-2077-49d6-a1b3-29d9cd3be7a7",
   "metadata": {},
   "source": [
    "#### Case 7 Result: \n",
    "Both errors are similar and clearly convey the issue, but I think for our case of inserting the data into our database, the InsertCursor’s error message is a little more clear.  Remember pydantic is a generic data validation library, so its error messages aren't made soley for errors that may arise when inserting data into a database."
   ]
  },
  {
   "cell_type": "markdown",
   "id": "ab67db2f-7e9a-49a1-a86c-e47333e3cd7e",
   "metadata": {
    "tags": []
   },
   "source": [
    "## Case 8: Value not in CV domain\n",
    "Send the value 99 to a field controlled by a coded value domain and 99 isn’t a code in the domain assigned to the field."
   ]
  },
  {
   "cell_type": "code",
   "execution_count": 14,
   "id": "b1bf4881-7d95-4bd3-9677-c8557d6657e4",
   "metadata": {},
   "outputs": [
    {
     "name": "stdout",
     "output_type": "stream",
     "text": [
      "Input data:\n",
      "\tSHORT_FIELD            : 311\n",
      "\tTEXT_FIELD             : 'code 99!'\n",
      "\tCODED_VALUE_SHORT_FIELD: 99\n",
      "\tShape                  : POINT(-90.18502 38.62466 NaN NaN)\n",
      "\n",
      "validate_python exception.  Exception message:\n",
      "\tValidationError: 1 validation error for MY_FEATURECLASS\n",
      "\tCODED_VALUE_SHORT_FIELD\n",
      "\t  Input should be 0, 1 or -1 [type=literal_error, input_value=99, input_type=int]\n",
      "\t    For further information visit https://errors.pydantic.dev/2.11/v/literal_error\n",
      "\n",
      "InsertCursor success.\n"
     ]
    }
   ],
   "source": [
    "my_row = {\n",
    "    \"SHORT_FIELD\": 311, \n",
    "    \"TEXT_FIELD\": \"code 99!\",\n",
    "    \"CODED_VALUE_SHORT_FIELD\": 99,\n",
    "    \"Shape\":my_point,\n",
    "}\n",
    "\n",
    "test_ta_and_insert_data(my_row)"
   ]
  },
  {
   "cell_type": "markdown",
   "id": "ae6eeb22-c225-4a5a-89d8-9a5b4ae6e655",
   "metadata": {},
   "source": [
    "#### Case 8 Result: \n",
    "The type adapter rejected our row since 99 isn’t a value in the domain, but the insert cursor let it go into the database without issue.  I now have a value in my database that doesn't conform to the domain assigned to the field.  This is another case where you should come to your own conclusion, but in my opinion, if we went to the trouble of setting up a coded value domain and assigned it to our field, I’d like to ensure that all my data in the field conforms to the expected values.\n",
    "\n",
    "![An image showing an attribute table with the value 99 in the CV short column](case8.png \"99 in the CV short field which isn't a code in the domain.\")"
   ]
  },
  {
   "cell_type": "markdown",
   "id": "182a334e-6a44-43cb-8ba7-8c0bf921893b",
   "metadata": {},
   "source": [
    "## Case 9: No value supplied for subtype field\n",
    "Send a row that is missing a value for the subtype field of a table/feature class\n",
    "\n",
    "##### Note \n",
    "Our feature class was not subtyped originally, we will add some new fields and set one of them as the subtype field for the feature class and add a coded value domain to subtype 1 for the other field.\n",
    "\n",
    "Since we've modified the schema of our feature class we will need to re-create our table adapter to get the table adapter to know about the new fields."
   ]
  },
  {
   "cell_type": "code",
   "execution_count": 15,
   "id": "81b1eeee-d473-4877-be4d-b52a95fa8e6a",
   "metadata": {},
   "outputs": [
    {
     "name": "stdout",
     "output_type": "stream",
     "text": [
      "Adding fields to feature class for subtype examples.\n",
      "Setting subtype field and adding subtypes.\n",
      "Adding the 'MY_SHORT_DOMAIN' domain only to subtype 1 of the 'SUBTYPE_CV_SHORT_FIELD' field.\n",
      "Recreating table adapter.\n",
      "Input data:\n",
      "\tSHORT_FIELD           : 311\n",
      "\tSUBTYPE_CV_SHORT_FIELD: 0\n",
      "\tShape                 : POINT(-90.18502 38.62466 NaN NaN)\n",
      "\n",
      "validate_python exception.  Exception message:\n",
      "\tValidationError: 1 validation error for tagged-union[MY_FEATURECLASS-subtype 1,MY_FEATURECLASS-subtype 2]\n",
      "\t  Unable to extract tag using discriminator 'SUBTYPE_FIELD' [type=union_tag_not_found, input_value={'SHORT_FIELD': 311, 'SUB...18502, 38.62466, #, #)>}, input_type=dict]\n",
      "\t    For further information visit https://errors.pydantic.dev/2.11/v/union_tag_not_found\n",
      "\n",
      "InsertCursor success.\n"
     ]
    }
   ],
   "source": [
    "print(\"Adding fields to feature class for subtype examples.\")\n",
    "arcpy.AddField_management(my_fc_path, \"SUBTYPE_FIELD\", \"SHORT\", field_alias=\"subtype field!\")\n",
    "arcpy.AddField_management(my_fc_path, \"SUBTYPE_CV_SHORT_FIELD\", \"SHORT\", field_alias=\"subtype CV short\")\n",
    "\n",
    "print(\"Setting subtype field and adding subtypes.\")\n",
    "arcpy.SetSubtypeField_management(my_fc_path, \"SUBTYPE_FIELD\")\n",
    "arcpy.AddSubtype_management(my_fc_path, 1, \"subtype 1\")\n",
    "arcpy.AddSubtype_management(my_fc_path, 2, \"subtype 2\")\n",
    "\n",
    "print(\"Adding the 'MY_SHORT_DOMAIN' domain only to subtype 1 of the 'SUBTYPE_CV_SHORT_FIELD' field.\")\n",
    "arcpy.AssignDomainToField_management(\n",
    "    my_fc_path, \n",
    "    \"SUBTYPE_CV_SHORT_FIELD\", \n",
    "    \"MY_SHORT_DOMAIN\", \n",
    "    1,\n",
    ")\n",
    "\n",
    "print(\"Recreating table adapter.\")\n",
    "my_ta = make_table_adapter(my_fc_path)\n",
    "\n",
    "my_row = {\n",
    "    \"SHORT_FIELD\": 311, \n",
    "    \"SUBTYPE_CV_SHORT_FIELD\": 0,\n",
    "    \"Shape\":my_point,\n",
    "}\n",
    "\n",
    "test_ta_and_insert_data(my_row)"
   ]
  },
  {
   "cell_type": "markdown",
   "id": "804e2274-9983-4bc7-adb1-a8c98afd82a6",
   "metadata": {},
   "source": [
    "#### Case 9 Result: \n",
    "The type adapter rejected our row since we didn't supply a value for the SUBTYPE_FIELD.  Of all the error messages produced by the type adapter, this one is the least intuitive to me.  This is because the type adapter isn't sure what it should be validating the data against.  Without a subtype code, the table adapter can't verify that we're following the rules for whatever subtype the data should be.  Under the covers, the `make_table_adapter` actually made a different pydantic TypeAdapter for each subtype in our table/feature class, and it combines all the TypeAdapters into one all encompassing adapter.  then it uses whatever value is supplied to 'discriminate' which subtype's TypeAdapter to validate against.  since we didn't give it a code, it couldn't determine which to use.\n",
    "\n",
    "The insert cursor on the other hand happily inserts a new row into the table and if we look at the table, we now have a value that says it is subtype 0.  Once again, it's up to you if this is what you'd like to happen, but I would never want to see a row in my database with a subtype value that isn't a subtype for my table / feature class.\n",
    "\n",
    "![An image showing an attribute table with the value 0 in the subtype field! column](case9.png \"0 in the subtype field which isn't a subtype code.\")"
   ]
  },
  {
   "cell_type": "markdown",
   "id": "d99ca6ad-2824-4d25-80b8-d7e294e56c0b",
   "metadata": {},
   "source": [
    "## Case 10: Bad subtype code\n",
    "Send a row that has a value for the subtype field which is not a code for the subtype of the table/feature class"
   ]
  },
  {
   "cell_type": "code",
   "execution_count": 16,
   "id": "eea27d6e-b493-4c5c-8204-25371920c875",
   "metadata": {},
   "outputs": [
    {
     "name": "stdout",
     "output_type": "stream",
     "text": [
      "Input data:\n",
      "\tSHORT_FIELD  : 311\n",
      "\tSUBTYPE_FIELD: 99\n",
      "\tShape        : POINT(-90.18502 38.62466 NaN NaN)\n",
      "\n",
      "validate_python exception.  Exception message:\n",
      "\tValidationError: 1 validation error for tagged-union[MY_FEATURECLASS-subtype 1,MY_FEATURECLASS-subtype 2]\n",
      "\t  Input tag '99' found using 'SUBTYPE_FIELD' does not match any of the expected tags: 1, 2 [type=union_tag_invalid, input_value={'SHORT_FIELD': 311, 'SUB...18502, 38.62466, #, #)>}, input_type=dict]\n",
      "\t    For further information visit https://errors.pydantic.dev/2.11/v/union_tag_invalid\n",
      "\n",
      "InsertCursor success.\n"
     ]
    }
   ],
   "source": [
    "my_row = {\n",
    "    \"SHORT_FIELD\": 311, \n",
    "    \"SUBTYPE_FIELD\": 99,\n",
    "    \"Shape\":my_point,\n",
    "}\n",
    "\n",
    "test_ta_and_insert_data(my_row)"
   ]
  },
  {
   "cell_type": "markdown",
   "id": "79e3a4f2-dbaf-46e3-ac6b-fafda467ee99",
   "metadata": {
    "tags": []
   },
   "source": [
    "#### Case 10 Result: \n",
    "The type adapter rejected our row since the input 'tag' `99` does not match the expected tags `[1,2]`.  This is another where the ESRI/pydantic words are simply different.  What pydantic is referring to here as a 'tag' is the same as what in the ESRI world we call a subtype.  \n",
    "\n",
    "You know where this is going... The insert cursor inserts a new row into the table and if we look at the table, we now have a value that says it is subtype 99. I wouldn't want that in my database.\n",
    "\n",
    "![An image showing an attribute table with the value 99 in the subtype field! column](case10.png \"99 in the subtype field which isn't a subtype code.\")"
   ]
  },
  {
   "cell_type": "markdown",
   "id": "6e5cb9a0-dfdb-47ce-9402-52c61e3bc315",
   "metadata": {},
   "source": [
    "## Case 11: Value for field with domain assigned to field at the subtype level isn't in the domain\n",
    "Send a row that has a value for a field that has a domain assigned to the field at the subtype level, the domain is not the entire table, just the subtype we're targeting."
   ]
  },
  {
   "cell_type": "code",
   "execution_count": 17,
   "id": "4487e3d2-6968-49a4-bb37-03a441ce03f9",
   "metadata": {},
   "outputs": [
    {
     "name": "stdout",
     "output_type": "stream",
     "text": [
      "Input data:\n",
      "\tSHORT_FIELD           : 311\n",
      "\tSUBTYPE_FIELD         : 1\n",
      "\tSUBTYPE_CV_SHORT_FIELD: 2\n",
      "\tShape                 : POINT(-90.18502 38.62466 NaN NaN)\n",
      "\n",
      "validate_python exception.  Exception message:\n",
      "\tValidationError: 1 validation error for tagged-union[MY_FEATURECLASS-subtype 1,MY_FEATURECLASS-subtype 2]\n",
      "\t1.SUBTYPE_CV_SHORT_FIELD\n",
      "\t  Input should be 0, 1 or -1 [type=literal_error, input_value=2, input_type=int]\n",
      "\t    For further information visit https://errors.pydantic.dev/2.11/v/literal_error\n",
      "\n",
      "InsertCursor success.\n"
     ]
    }
   ],
   "source": [
    "my_row = {\n",
    "    \"SHORT_FIELD\": 311, \n",
    "    \"SUBTYPE_FIELD\": 1,\n",
    "    \"SUBTYPE_CV_SHORT_FIELD\":2,\n",
    "    \"Shape\":my_point,\n",
    "}\n",
    "\n",
    "test_ta_and_insert_data(my_row)"
   ]
  },
  {
   "cell_type": "markdown",
   "id": "c4e51fb8-a5d4-4b09-88f6-516edc54a372",
   "metadata": {
    "tags": []
   },
   "source": [
    "#### Case 11 Result: \n",
    "The type adapter rejected our row since the input value for the SUBTYPE_CV_SHORT_FIELD of 2 was not 0, 1, or -1.\n",
    "\n",
    "Again, the insert cursor wrote the out of domain value to the database.\n",
    "\n",
    "![An image showing an attribute table with the value 2 in the subtype CV short column](case11.png \"2 in the subtype CV short field.\")"
   ]
  },
  {
   "cell_type": "markdown",
   "id": "d17fdad4-6663-4688-808b-3d4acc6f09a5",
   "metadata": {},
   "source": [
    "## Case 12: Value for field with domain assigned to a different subtype, but no domain assigned to the input row's subtype\n",
    "This is the same as case 11, but instead of writing to subtype 1 we'll write to subtype 2, but subtype 2 doesn't have a domain assigned to the SUBTYPE_CV_SHORT_FIELD."
   ]
  },
  {
   "cell_type": "code",
   "execution_count": 18,
   "id": "971ae9a2-d8ef-420b-b3d0-e9e2e144ad8d",
   "metadata": {},
   "outputs": [
    {
     "name": "stdout",
     "output_type": "stream",
     "text": [
      "Input data:\n",
      "\tSHORT_FIELD           : 311\n",
      "\tSUBTYPE_FIELD         : 2\n",
      "\tSUBTYPE_CV_SHORT_FIELD: 2\n",
      "\tShape                 : POINT(-90.18502 38.62466 NaN NaN)\n",
      "\n",
      "validate_python success.\n",
      "\n",
      "InsertCursor success.\n"
     ]
    }
   ],
   "source": [
    "my_row = {\n",
    "    \"SHORT_FIELD\": 311, \n",
    "    \"SUBTYPE_FIELD\": 2,\n",
    "    \"SUBTYPE_CV_SHORT_FIELD\":2,\n",
    "    \"Shape\":my_point,\n",
    "}\n",
    "\n",
    "test_ta_and_insert_data(my_row)"
   ]
  },
  {
   "cell_type": "markdown",
   "id": "29cbbfdf-636d-4800-805a-616e1547a15d",
   "metadata": {
    "tags": []
   },
   "source": [
    "#### Case 12 Result: \n",
    "The type adapter successfully validated our data. The value that it rejected as wrong in case 11 is the same, but since subtype 2 doesn't have a domain assigned to the field for this subtype, the value we're writing to the field is allowed\n",
    "\n",
    "The insert cursor wrote the row to the database successfully as it should have.\n",
    "\n",
    "![An image showing an attribute table with the value 2 in the subtype CV short column along with subtype 2 in the subtype field! column](case12.png \"2 in the subtype CV short field.\")"
   ]
  },
  {
   "cell_type": "code",
   "execution_count": null,
   "id": "cc540535-013b-4753-92ea-0745cc3e8da6",
   "metadata": {},
   "outputs": [],
   "source": []
  }
 ],
 "metadata": {
  "kernelspec": {
   "display_name": "Python 3 (ipykernel)",
   "language": "python",
   "name": "python3"
  },
  "language_info": {
   "codemirror_mode": {
    "name": "ipython",
    "version": 3
   },
   "file_extension": ".py",
   "mimetype": "text/x-python",
   "name": "python",
   "nbconvert_exporter": "python",
   "pygments_lexer": "ipython3",
   "version": "3.11.8"
  }
 },
 "nbformat": 4,
 "nbformat_minor": 5
}
