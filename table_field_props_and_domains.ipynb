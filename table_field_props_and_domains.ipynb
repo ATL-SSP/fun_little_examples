{
 "cells": [
  {
   "cell_type": "code",
   "execution_count": null,
   "id": "a46e60f2",
   "metadata": {},
   "outputs": [],
   "source": [
    "import pandas as pd\n",
    "import arcpy\n",
    "import ipywidgets as widgets\n",
    "from IPython.core.display import display, HTML"
   ]
  },
  {
   "cell_type": "code",
   "execution_count": null,
   "id": "fa0fe42b",
   "metadata": {},
   "outputs": [],
   "source": [
    "gdb_path = r\"C:\\jupyter_lab_is_neat\\UPDM_AssetPackage.gdb\" # the path to the database that holds the tables I want to look at\n",
    "field_props_to_display = [\"name\", \"aliasName\", \"type\", \"domain\", \"length\"] # the field properties I'm currently interested in seeing"
   ]
  },
  {
   "cell_type": "code",
   "execution_count": null,
   "id": "284b6aa7",
   "metadata": {},
   "outputs": [],
   "source": [
    "arcpy.env.workspace = gdb_path # set our workspace so arcpy.ListTables and arcpy.ListFields knows where to find the tables\n",
    "\n",
    "table_list = arcpy.ListTables() # get a list of tables in the gdb\n",
    "table_field_dict = {} # make an empty dictionary to store the lists of fields from the table\n",
    "for table in table_list:\n",
    "    # for each table in the list of tables, get the fields of the table and add them to the dictionary\n",
    "    fields = arcpy.ListFields(table)\n",
    "    table_field_dict[table] = fields\n",
    "\n",
    "domain_list = arcpy.da.ListDomains(gdb_path) # get a list of the domains in the databse\n",
    "domain_dict = {} # make an empty dictionary to store the domain information\n",
    "for domain in domain_list:\n",
    "    # for each domain in the list, add the domain to the dictionary with the key of the dictionary being the domain name\n",
    "    domain_dict[domain.name] = domain"
   ]
  },
  {
   "cell_type": "code",
   "execution_count": null,
   "id": "401ba25c",
   "metadata": {},
   "outputs": [],
   "source": [
    "display(HTML(\"<style>.jp-Notebook.jp-mod-scrollPastEnd::after { display: none; }</style>\"))"
   ]
  },
  {
   "cell_type": "code",
   "execution_count": null,
   "id": "f3544982",
   "metadata": {},
   "outputs": [],
   "source": [
    "table_select_w = widgets.Select(options=table_field_dict.keys()) \n",
    "# the table select widget will be used to select the table we want to look at, \n",
    "#  we'll initialize it with the list of tables from our database\n",
    "\n",
    "field_select_w = widgets.Select(options=[]) \n",
    "# the field select widget will be used to select the field we want to look at\n",
    "#  we arent going to initialize it with any options because we need to know what table to display the fields from first\n",
    "\n",
    "def on_table_field_interact(selected_table, selected_field): # this function will be used by the ipywidgets interactive function below\n",
    "    if selected_table is not None:\n",
    "        # if the selected table isn't none, set the options in the field select widget to the fields from this table\n",
    "        selected_table_fields = table_field_dict[selected_table]\n",
    "        selected_table_field_names = [f.name for f in selected_table_fields]\n",
    "        field_select_w.options = selected_table_field_names\n",
    "    else:\n",
    "        # if no table is selected, populate the field select widget with no options\n",
    "        field_select_w.options = []\n",
    "        \n",
    "    if selected_field is not None:\n",
    "        # if there is a field selected in the widget...\n",
    "        for field in selected_table_fields:\n",
    "            # loop over all the fields from the selected table\n",
    "            if field.name == selected_field:\n",
    "                # if the field name matches the field that's selected make a dictionary of the properties we're interested in\n",
    "                field_prop_dict = {}\n",
    "                for prop in field_props_to_display:\n",
    "                    field_prop_dict[prop] = [getattr(field, prop)]\n",
    "                # take the dictionary and turn it into a pandas dataframe (simply because they render in jupyterlab really pretty)\n",
    "                #  yes this is very trivial use of a dataframe, but it works so well!\n",
    "                field_prop_df = pd.DataFrame.from_dict(field_prop_dict, orient='index', columns=[\"Value\"])\n",
    "                # display the dataframe in the output of the interactive widget\n",
    "                display(field_prop_df)\n",
    "                \n",
    "                domain_name = field.domain\n",
    "                if domain_name != \"\":\n",
    "                    # if the field has a domain get the domain from the dictionary\n",
    "                    domain = domain_dict[domain_name]\n",
    "                    if domain.domainType ==\"CodedValue\":\n",
    "                        # if the domain is a coded value domain, get the coded values from the domain, and add them to a different dataframe\n",
    "                        coded_values_df = pd.DataFrame.from_dict(domain.codedValues, orient='index', columns=[\"Description\"])\n",
    "                        # set a name on the index so it looks pretty when we display it\n",
    "                        coded_values_df.index.name = 'Code'\n",
    "                        # boom, display that dataframe too!\n",
    "                        display(coded_values_df)\n",
    "\n",
    "# the widgets interactive function takes a function, then the arguments for that function are then set from the values of other widgets and returns a VBox of the input widgets and a new output widget\n",
    "#  so in our case, we'll give it our on_table_field_interact function\n",
    "#  then since that function takes a selected_table and selected_field argument, we'll pass the corresponding table and field widgets to the interactive function \n",
    "interactive_display_w = widgets.interactive(on_table_field_interact, selected_table=table_select_w, selected_field=field_select_w)\n",
    "\n",
    "# since the interactive function returns a VBox, and I really want this to be aligned horizontally, not vertically, \n",
    "#  we'll get the last child of the VBox wich is the output widget where the field information will be displayed\n",
    "interactive_display_output_w = interactive_display_w.children[-1]\n",
    "\n",
    "# when you pass widgets to the interactive function, it sets a desctiption on them of the argument name\n",
    "#  i would rather the description just be \"Table\" and \"Field\" instead of \"selected_table\" and \"selected_field\"\n",
    "#  so we'll overwrite those properties on the widget and set the height and width to be a bit bigger, so we can see more stuff in them\n",
    "table_select_w.description = \"Table\"\n",
    "table_select_w.layout.width = '400px'\n",
    "table_select_w.layout.height = '400px'\n",
    "\n",
    "field_select_w.description = \"Field\"\n",
    "field_select_w.layout.width = '400px'\n",
    "field_select_w.layout.height = '400px'\n",
    "\n",
    "# lastly we need to make a HBox to make the widgets show up horizontally,\n",
    "#  because for our use it makes a more appealing interface (in my opinion... and im the person writing it :) )\n",
    "#  and then we need to display the HBox\n",
    "selectors_and_output_box = widgets.HBox([table_select_w, field_select_w, interactive_display_output_w])\n",
    "display(selectors_and_output_box)"
   ]
  }
 ],
 "metadata": {
  "kernelspec": {
   "display_name": "Python 3",
   "language": "python",
   "name": "python3"
  },
  "language_info": {
   "codemirror_mode": {
    "name": "ipython",
    "version": 3
   },
   "file_extension": ".py",
   "mimetype": "text/x-python",
   "name": "python",
   "nbconvert_exporter": "python",
   "pygments_lexer": "ipython3",
   "version": "3.7.11"
  }
 },
 "nbformat": 4,
 "nbformat_minor": 5
}
